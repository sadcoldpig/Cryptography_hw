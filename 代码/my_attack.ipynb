{
 "cells": [
  {
   "cell_type": "markdown",
   "source": [
    "### 预先定义的函数"
   ],
   "metadata": {
    "collapsed": false
   }
  },
  {
   "cell_type": "code",
   "execution_count": 1,
   "outputs": [],
   "source": [
    "# 读入n, e, c\n",
    "ciphers = {}\n",
    "for i in range(21):\n",
    "    f = open(\"./frame/Frame{}\".format(i),'r')\n",
    "    data = f.read()\n",
    "    data = [int(data[i * 256 : (i + 1) * 256], 16) for i in range(3)]\n",
    "    cipher = dict(zip(['n', 'e', 'c'], data))\n",
    "    ciphers[i] = cipher\n",
    "\n",
    "# 根据p, q, e, c解密\n",
    "def decrypt(p, q, e, c):\n",
    "    fai = (p - 1) * (q - 1)\n",
    "    d = inverse(e, fai)\n",
    "    return pow(c, d, p * q)\n",
    "def message_print(m):\n",
    "    return bytes.fromhex(hex(m)[2:])[-8:]"
   ],
   "metadata": {
    "collapsed": false
   }
  },
  {
   "cell_type": "code",
   "execution_count": 2,
   "outputs": [],
   "source": [
    "from Crypto.Util.number import inverse,isPrime,getPrime\n",
    "from gmpy2 import gcdext,iroot,isqrt,gcd\n",
    "from random import randint"
   ],
   "metadata": {
    "collapsed": false
   }
  },
  {
   "cell_type": "markdown",
   "source": [
    "### 公模攻击"
   ],
   "metadata": {
    "collapsed": false
   }
  },
  {
   "cell_type": "code",
   "execution_count": 43,
   "outputs": [
    {
     "data": {
      "text/plain": "[(0, 4)]"
     },
     "execution_count": 43,
     "metadata": {},
     "output_type": "execute_result"
    }
   ],
   "source": [
    "can_attack = []\n",
    "for i in range(len(ciphers)):\n",
    "    for j in range(i, len(ciphers)):\n",
    "        if ciphers[i]['n'] == ciphers[j]['n']\\\n",
    "            and gcd(ciphers[i]['e'], ciphers[j]['e']) == 1:\n",
    "            can_attack.append((i, j))\n",
    "can_attack"
   ],
   "metadata": {
    "collapsed": false
   }
  },
  {
   "cell_type": "code",
   "execution_count": 44,
   "outputs": [],
   "source": [
    "def common_mod(e1, e2, n, c1, c2):\n",
    "    g, s, t = gcdext(e1, e2)\n",
    "    if s < 0:\n",
    "        s = -s\n",
    "        c1 = inverse(c1, n)\n",
    "    if t < 0:\n",
    "        t = -t\n",
    "        c2 = inverse(c2, n)\n",
    "    return pow(c1, s, n) * pow(c2, t, n) % n"
   ],
   "metadata": {
    "collapsed": false
   }
  },
  {
   "cell_type": "code",
   "execution_count": 45,
   "outputs": [
    {
     "data": {
      "text/plain": "b'My secre'"
     },
     "execution_count": 45,
     "metadata": {},
     "output_type": "execute_result"
    }
   ],
   "source": [
    "m = common_mod(ciphers[0]['e'], ciphers[4]['e'], ciphers[0]['n'], ciphers[0]['c'], ciphers[4]['c'])\n",
    "message_print(m)"
   ],
   "metadata": {
    "collapsed": false
   }
  },
  {
   "cell_type": "markdown",
   "source": [
    "### 模不互素"
   ],
   "metadata": {
    "collapsed": false
   }
  },
  {
   "cell_type": "code",
   "execution_count": 46,
   "outputs": [
    {
     "data": {
      "text/plain": "[(1, 18)]"
     },
     "execution_count": 46,
     "metadata": {},
     "output_type": "execute_result"
    }
   ],
   "source": [
    "can_attack = []\n",
    "for i in range(len(ciphers)):\n",
    "    for j in range(i + 1, len(ciphers)):\n",
    "        if ciphers[i]['n'] !=ciphers[j]['n'] and gcd(ciphers[i]['n'], ciphers[j]['n']) != 1:\n",
    "            can_attack.append((i, j))\n",
    "can_attack"
   ],
   "metadata": {
    "collapsed": false
   }
  },
  {
   "cell_type": "code",
   "execution_count": 47,
   "outputs": [],
   "source": [
    "def common_factor(c1, c2, n1, n2, e1, e2):\n",
    "    p = gcd(n1, n2)\n",
    "    q1 = n1 // p\n",
    "    q2 = n2 // p\n",
    "    m1 = decrypt(p, q1, e1, c1)\n",
    "    m2 = decrypt(p, q2, e2, c2)\n",
    "    return m1, m2"
   ],
   "metadata": {
    "collapsed": false
   }
  },
  {
   "cell_type": "code",
   "execution_count": 48,
   "outputs": [],
   "source": [
    "f0, f1 = ciphers[1], ciphers[18]\n",
    "m0, m1 = common_factor(f0['c'], f1['c'], f0['n'], f1['n'], f0['e'], f1['e'])\n"
   ],
   "metadata": {
    "collapsed": false
   }
  },
  {
   "cell_type": "code",
   "execution_count": 49,
   "outputs": [
    {
     "name": "stdout",
     "output_type": "stream",
     "text": [
      "b'. Imagin'\n",
      "b'm A to B'\n"
     ]
    }
   ],
   "source": [
    "print(message_print(m0))\n",
    "print(message_print(m1))"
   ],
   "metadata": {
    "collapsed": false
   }
  },
  {
   "cell_type": "markdown",
   "source": [
    "### 低指数加密攻击"
   ],
   "metadata": {
    "collapsed": false
   }
  },
  {
   "cell_type": "code",
   "execution_count": 51,
   "outputs": [
    {
     "name": "stdout",
     "output_type": "stream",
     "text": [
      "46786465362686334917265996843779843233606992585424976481745055335468678697948774988450305612127967926533923268260412557000125153569622340353246096040604284883505587337829322949633637609180797447754513992039018904786537115087888005528547900640339270052628915440787357271345416818313808448127098885767015748889 : [0]\n",
      "65537 : [1, 2, 5, 6, 9, 10, 13, 14, 17, 18, 19]\n",
      "5 : [3, 8, 12, 16, 20]\n",
      "152206992575706893484835984472544529509325440944131662631741403414037956695665533186650071476146389737020554215956181827422540843366433981607643940546405002217220286072880967331118344806315756304650248634546597784597963886656422706197757265316981889118026978865295597135470735576032282694348773714479076093197 : [4]\n",
      "3 : [7, 11, 15]\n"
     ]
    }
   ],
   "source": [
    "e_list = {}\n",
    "for i in range(len(ciphers)):\n",
    "    cipher = ciphers[i]\n",
    "    if cipher['e'] not in e_list:\n",
    "        e_list[cipher['e']] = [i]\n",
    "    else:\n",
    "        e_list[cipher['e']].append(i)\n",
    "for e, idx in e_list.items():\n",
    "    print(f\"{e} : {idx}\")"
   ],
   "metadata": {
    "collapsed": false
   }
  },
  {
   "cell_type": "code",
   "execution_count": 118,
   "outputs": [
    {
     "data": {
      "text/plain": "b't is a f'"
     },
     "execution_count": 118,
     "metadata": {},
     "output_type": "execute_result"
    }
   ],
   "source": [
    "def CRT(a, m):\n",
    "    M = 1\n",
    "    for i in m:\n",
    "        M *= i\n",
    "    M_list = [M // i for i in m]\n",
    "    y_list = [inverse(M_list[i], m[i]) for i in range(len(m))]\n",
    "    x = 0\n",
    "    for i in range(len(m)):\n",
    "        x += a[i] * M_list[i] * y_list[i]\n",
    "    return x % M\n",
    "\n",
    "c5_list = [cipher['c'] for cipher in ciphers.values() if cipher['e'] == 5]\n",
    "n5_list = [cipher['n'] for cipher in ciphers.values() if cipher['e'] == 5]\n",
    "m = CRT(c5_list, n5_list)\n",
    "m = iroot(m, 5)[0]\n",
    "message_print(m)"
   ],
   "metadata": {
    "collapsed": false
   }
  },
  {
   "cell_type": "code",
   "execution_count": 58,
   "outputs": [
    {
     "data": {
      "text/plain": "b't is a f'"
     },
     "execution_count": 58,
     "metadata": {},
     "output_type": "execute_result"
    }
   ],
   "source": [
    "c5_list = [cipher['c'] for cipher in ciphers.values() if cipher['e'] == 5]\n",
    "t is a fn5_list = [cipher['n'] for cipher in ciphers.values() if cipher['e'] == 5]\n",
    "m = CRT(c5_list, n5_list)\n",
    "m = iroot(m, 5)[0]\n",
    "message_print(m)"
   ],
   "metadata": {
    "collapsed": false
   }
  },
  {
   "cell_type": "markdown",
   "source": [
    "### 费马分解"
   ],
   "metadata": {
    "collapsed": false
   }
  },
  {
   "cell_type": "code",
   "execution_count": 119,
   "outputs": [],
   "source": [
    "def fermat_factor(n, limit=100000):\n",
    "    x = iroot(n, 2)[0]\n",
    "    while x ** 2 < n:\n",
    "        x += 1\n",
    "    for i in range(x, x + limit):\n",
    "        y = i * i - n\n",
    "        if isqrt(y) ** 2 == y:\n",
    "            return i - isqrt(y), i + isqrt(y)\n",
    "    return None, None"
   ],
   "metadata": {
    "collapsed": false
   }
  },
  {
   "cell_type": "code",
   "execution_count": 120,
   "outputs": [
    {
     "name": "stdout",
     "output_type": "stream",
     "text": [
      "Frame10 : 9686924917554805418937638872796017160525664579857640590160320300805115443578184985934338583303180178582009591634321755204008394655858254980766008932978633, 9686924917554805418937638872796017160525664579857640590160320300805115443578184985934338583303180178582009591634321755204008394655858254980766008932978699\n",
      "b'will get'\n"
     ]
    }
   ],
   "source": [
    "for i in range(len(ciphers)):\n",
    "    cipher = ciphers[i]\n",
    "    p, q = fermat_factor(cipher['n'])\n",
    "    if p is not None:\n",
    "        print(f\"Frame{i} : {p}, {q}\")\n",
    "        print(message_print(decrypt(p, q, cipher['e'], cipher['c'])))"
   ],
   "metadata": {
    "collapsed": false
   }
  },
  {
   "cell_type": "markdown",
   "source": [
    "### p - 1 光滑"
   ],
   "metadata": {
    "collapsed": false
   }
  },
  {
   "cell_type": "code",
   "execution_count": 3,
   "outputs": [],
   "source": [
    "def pollard_p_1(N, B = 2220000):\n",
    "    a = 2\n",
    "    n = 2\n",
    "    for i in range(2, B):\n",
    "        a = pow(a, i, N)\n",
    "        d = gcd(a - 1, N)\n",
    "        if d != 1 and d != N:\n",
    "            return d"
   ],
   "metadata": {
    "collapsed": false
   }
  },
  {
   "cell_type": "code",
   "execution_count": 4,
   "outputs": [
    {
     "name": "stdout",
     "output_type": "stream",
     "text": [
      "Frame2可以破解\n",
      "b' That is'\n",
      "Frame6可以破解\n",
      "b' \"Logic '\n",
      "Frame19可以破解\n",
      "b'instein.'\n"
     ]
    }
   ],
   "source": [
    "for i in range(len(ciphers)):\n",
    "    cipher = ciphers[i]\n",
    "    p = pollard_p_1(cipher['n'])\n",
    "    if p is not None:\n",
    "        q = cipher['n'] // p\n",
    "        print(f'Frame{i}可以破解')\n",
    "        print(message_print(decrypt(p, q, cipher['e'], cipher['c'])))"
   ],
   "metadata": {
    "collapsed": false
   }
  }
 ],
 "metadata": {
  "kernelspec": {
   "display_name": "Python 3",
   "language": "python",
   "name": "python3"
  },
  "language_info": {
   "codemirror_mode": {
    "name": "ipython",
    "version": 2
   },
   "file_extension": ".py",
   "mimetype": "text/x-python",
   "name": "python",
   "nbconvert_exporter": "python",
   "pygments_lexer": "ipython2",
   "version": "2.7.6"
  }
 },
 "nbformat": 4,
 "nbformat_minor": 0
}
